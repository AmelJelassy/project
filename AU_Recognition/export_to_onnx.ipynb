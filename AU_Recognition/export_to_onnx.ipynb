{
 "cells": [
  {
   "cell_type": "code",
   "execution_count": null,
   "metadata": {},
   "outputs": [],
   "source": [
    "import os\n",
    "from datetime import datetime\n",
    "import torch\n",
    "from torch.utils.data import DataLoader\n",
    "\n",
    "from data import MyDataset\n",
    "from models.resnet18 import ResNet18\n",
    "from models.swin import SwinTransformer\n",
    "from models.mae import MaskedAutoEncoder"
   ]
  },
  {
   "cell_type": "code",
   "execution_count": null,
   "metadata": {},
   "outputs": [],
   "source": [
    "num_labels = 12\n",
    "aus = [1,2,4,5,6,9,12,15,17,20,25,26]\n",
    "batch_size = 512\n",
    "num_workers = 1\n",
    "train = False\n",
    "device = \"cpu\"\n",
    "data_root = \"../../LibreFace_TestData\"\n",
    "data = \"DISFA\"\n",
    "onnx_name = \"LibreFace\"\n",
    "test_csv = os.path.join(data_root, data, \"labels_intensity_5\", \"all\", \"test.csv\")\n",
    "dropout = 0.1\n",
    "fm_distillation = False\n",
    "hidden_dim = 128\n",
    "\n",
    "model_name = \"emotionnet_mae\"\n",
    "\n",
    "class SwinConfig:\n",
    "\tdef __init__(self):\n",
    "\t\tself.device = device\n",
    "\t\tself.dropout = 0.1\n",
    "\t\tself.num_labels = num_labels\n",
    "\n",
    "class AU2HeatmapConfig:\n",
    "\tdef __init__(self):\n",
    "\t\tself.data = data\n",
    "\t\tself.sigma = 10.0\n",
    "\t\tself.num_labels = num_labels\n",
    "\n",
    "class DatasetConfig(AU2HeatmapConfig):\n",
    "\tdef __init__(self):\n",
    "\t\tsuper().__init__()\n",
    "\t\tself.data = data\n",
    "\t\tself.data_root = data_root\n",
    "\t\tself.image_size = 256\n",
    "\t\tself.crop_size = 224\n",
    "\n",
    "class ResNet18Config:\n",
    "\tdef __init__(self):\n",
    "\t\tself.fm_distillation = fm_distillation\n",
    "\t\tself.dropout = dropout\n",
    "\t\tself.num_labels = num_labels\n",
    "\t\n",
    "class MaskedAutoEncoderConfig:\n",
    "\tdef __init__(self):\n",
    "\t\tself.fm_distillation = fm_distillation\n",
    "\t\tself.dropout = dropout\n",
    "\t\tself.num_labels = num_labels\n",
    "\t\tself.hidden_dim = hidden_dim\n"
   ]
  },
  {
   "cell_type": "code",
   "execution_count": null,
   "metadata": {},
   "outputs": [],
   "source": [
    "dataset_config = DatasetConfig()\n",
    "dataset = MyDataset(test_csv, train, dataset_config)\n",
    "loader = DataLoader(\n",
    "\tdataset=dataset,\n",
    "\tbatch_size=batch_size,\n",
    "\tnum_workers=num_workers,\n",
    "\tshuffle=train,\n",
    "\tcollate_fn=dataset.collate_fn,\n",
    "\tdrop_last=train\n",
    ")"
   ]
  },
  {
   "cell_type": "code",
   "execution_count": null,
   "metadata": {},
   "outputs": [],
   "source": [
    "if model_name == \"resnet\":\n",
    "    model_config = ResNet18Config()\n",
    "    model = ResNet18(model_config)\n",
    "    ckpt_name = os.path.join(\"resnet_disfa_all\", data, \"all\", \"resnet.pt\")\n",
    "elif model_name == \"swin\":\n",
    "    model_config = SwinConfig()\n",
    "    model = SwinTransformer(model_config)\n",
    "    ckpt_name = os.path.join(\"swin_checkpoint\", data, \"0\", \"swin.pt\")\n",
    "elif model_name == \"emotionnet_mae\":\n",
    "    model_config = MaskedAutoEncoderConfig()\n",
    "    model = MaskedAutoEncoder(model_config)\n",
    "    ckpt_name = os.path.join(\"mae_checkpoint\", data, \"0\", \"emotionnet_mae.pt\")\n",
    "else:\n",
    "    assert False"
   ]
  },
  {
   "cell_type": "code",
   "execution_count": null,
   "metadata": {},
   "outputs": [],
   "source": [
    "checkpoints = torch.load(ckpt_name, map_location=torch.device(device))[\"model\"]\n",
    "model.load_state_dict(checkpoints, strict=True)\n",
    "torch.no_grad()\n",
    "model.eval()"
   ]
  },
  {
   "cell_type": "code",
   "execution_count": null,
   "metadata": {},
   "outputs": [],
   "source": [
    "\n",
    "\"\"\"\n",
    "for images, labels in loader:\n",
    "\timages = images.to(device)\n",
    "\tlabels = labels.to(device)\n",
    "\tlabels_pred = model(images)\n",
    "\tlabels_pred = torch.clamp(labels_pred, min=0.0, max=5.0)\n",
    "\"\"\"\n",
    "\n",
    "dummy_input = torch.rand((1, 3, 224, 224), device=device)\n",
    "input_names = [ \"image\" ]\n",
    "output_names = [ \"AUs\" ]\n",
    "onnx_name = \"{0}_{1}_{2}.onnx\".format(onnx_name, model_name, datetime.now().strftime(\"%Y%m%d%H%M%S\"))\n",
    "\n",
    "torch.onnx.export(\n",
    "\tmodel, \n",
    "\tdummy_input, \n",
    "\tonnx_name, \n",
    "\tverbose=True, \n",
    "\tinput_names=input_names,\n",
    "\toutput_names=output_names\n",
    ")"
   ]
  },
  {
   "cell_type": "code",
   "execution_count": null,
   "metadata": {},
   "outputs": [],
   "source": [
    "import onnx\n",
    "model = onnx.load(onnx_name)\n",
    "onnx.checker.check_model(model)\n",
    "print(onnx.helper.printable_graph(model.graph))"
   ]
  },
  {
   "cell_type": "code",
   "execution_count": null,
   "metadata": {},
   "outputs": [],
   "source": [
    "import onnxruntime as ort\n",
    "import numpy as np\n",
    "\n",
    "ort_session = ort.InferenceSession(onnx_name)\n",
    "\n",
    "image, label = next(iter(dataset))\n",
    "image = image.unsqueeze(dim=0)\n",
    "image = image.numpy()\n",
    "\n",
    "label_pred = ort_session.run(\n",
    "    None,\n",
    "    {\"image\": image},\n",
    ")[0]\n",
    "label_pred = np.squeeze(label_pred, axis=0)\n"
   ]
  },
  {
   "cell_type": "code",
   "execution_count": null,
   "metadata": {},
   "outputs": [],
   "source": [
    "for i in range(num_labels):\n",
    "    gt = label[i]\n",
    "    pred = label_pred[i]\n",
    "    print(f\"AU{aus[i]}:\\tdiff={abs(pred - gt):.4f}\\tpred={pred:.4f}\\tgt={gt:.4f}\")\n"
   ]
  }
 ],
 "metadata": {
  "kernelspec": {
   "display_name": "base",
   "language": "python",
   "name": "python3"
  },
  "language_info": {
   "codemirror_mode": {
    "name": "ipython",
    "version": 3
   },
   "file_extension": ".py",
   "mimetype": "text/x-python",
   "name": "python",
   "nbconvert_exporter": "python",
   "pygments_lexer": "ipython3",
   "version": "3.11.3"
  },
  "orig_nbformat": 4,
  "vscode": {
   "interpreter": {
    "hash": "4f76a724a0076d5c39752e12bec55adbbf3b081a4d622e794e00deba6a6ff878"
   }
  }
 },
 "nbformat": 4,
 "nbformat_minor": 2
}
